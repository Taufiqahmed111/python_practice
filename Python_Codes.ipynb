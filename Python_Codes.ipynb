{
 "cells": [
  {
   "cell_type": "markdown",
   "id": "9ffe225e",
   "metadata": {},
   "source": [
    "# wap to input a string & print the frequency of characters\n"
   ]
  },
  {
   "cell_type": "code",
   "execution_count": 1,
   "id": "ca4ab7f4",
   "metadata": {},
   "outputs": [
    {
     "name": "stdout",
     "output_type": "stream",
     "text": [
      "enter a character java\n",
      "a : 2\n",
      "j : 1\n",
      "v : 1\n"
     ]
    }
   ],
   "source": [
    "df = input('enter a character ')\n",
    "df1 =df.lower()\n",
    "for i in range(97,123):\n",
    "    count =0\n",
    "    j=chr(i)\n",
    "    for k in df1:\n",
    "        if j==k:\n",
    "            count+=1\n",
    "    if count>0:\n",
    "        print(j ,':',count)"
   ]
  },
  {
   "cell_type": "code",
   "execution_count": 63,
   "id": "40905c89",
   "metadata": {},
   "outputs": [],
   "source": [
    "def count_char(strr):\n",
    "    df= strr.lower()\n",
    "    for i in range(92,127):\n",
    "        count = 0\n",
    "        j=chr(i)\n",
    "        for k in df:\n",
    "            if j==k:\n",
    "                count+=1\n",
    "        if count>0:\n",
    "            print(j,':',count)"
   ]
  },
  {
   "cell_type": "code",
   "execution_count": 64,
   "id": "3930d07f",
   "metadata": {},
   "outputs": [
    {
     "name": "stdout",
     "output_type": "stream",
     "text": [
      "a : 2\n",
      "j : 1\n",
      "v : 1\n"
     ]
    }
   ],
   "source": [
    "count_char(\"java\")"
   ]
  },
  {
   "cell_type": "markdown",
   "id": "c8f66885",
   "metadata": {},
   "source": [
    "## WAP TO INPUT A STRING & PRINT CHAR WITH HIGHEST OCCURENCES"
   ]
  },
  {
   "cell_type": "code",
   "execution_count": 2,
   "id": "9aa4fa20",
   "metadata": {},
   "outputs": [
    {
     "name": "stdout",
     "output_type": "stream",
     "text": [
      "enter the character java\n",
      "a : 2\n"
     ]
    }
   ],
   "source": [
    "df=input('enter the character ')\n",
    "df1=df.lower()\n",
    "count={}\n",
    "for i in df1:\n",
    "    if i in count:\n",
    "        count[i] += 1\n",
    "    else:\n",
    "        count[i]=1\n",
    "max_occ= 1\n",
    "max_char=''\n",
    "for key,value in count.items():\n",
    "    if value > max_occ:\n",
    "        max_occ=value\n",
    "        max_char=key\n",
    "print(max_char,':',max_occ)\n",
    "    \n",
    "    \n"
   ]
  },
  {
   "cell_type": "code",
   "execution_count": 73,
   "id": "8e2be59f",
   "metadata": {},
   "outputs": [],
   "source": [
    "def count_car(str1):\n",
    "    df2=str1.lower()\n",
    "    count={}\n",
    "    for i in df2:\n",
    "        if i in count:\n",
    "            count[i]+=1\n",
    "        else:\n",
    "            count[i]=1\n",
    "    max_occ=1\n",
    "    max_char=''\n",
    "    for key,value in count.items():\n",
    "        if value>max_occ:\n",
    "            max_occ = value\n",
    "            max_char= key\n",
    "    print(max_char,\":\",max_occ)"
   ]
  },
  {
   "cell_type": "code",
   "execution_count": 74,
   "id": "9b2e5d8b",
   "metadata": {},
   "outputs": [
    {
     "name": "stdout",
     "output_type": "stream",
     "text": [
      "a : 2\n"
     ]
    }
   ],
   "source": [
    "str2=\"java\"\n",
    "count_car(str2)"
   ]
  },
  {
   "cell_type": "markdown",
   "id": "427305a0",
   "metadata": {},
   "source": [
    "## wap to reverse every word of string in proper manner"
   ]
  },
  {
   "cell_type": "code",
   "execution_count": 3,
   "id": "64c877f8",
   "metadata": {},
   "outputs": [
    {
     "name": "stdout",
     "output_type": "stream",
     "text": [
      "enter the words how are you\n",
      "woh era uoy "
     ]
    }
   ],
   "source": [
    "df=input('enter the words ')\n",
    "df1=df.split(' ')\n",
    "for i in df1:\n",
    "    print(i[-1::-1],end=' ')"
   ]
  },
  {
   "cell_type": "code",
   "execution_count": 76,
   "id": "2cb6efab",
   "metadata": {},
   "outputs": [],
   "source": [
    "def to_reverse(str1):\n",
    "    df1=str1.split(\" \")\n",
    "    for i in df1:\n",
    "        print(i[-1::-1],end=\" \")"
   ]
  },
  {
   "cell_type": "code",
   "execution_count": 77,
   "id": "1cb473bf",
   "metadata": {},
   "outputs": [
    {
     "name": "stdout",
     "output_type": "stream",
     "text": [
      "evah a ecin yad "
     ]
    }
   ],
   "source": [
    "fd=\"have a nice day\"\n",
    "to_reverse(fd)"
   ]
  },
  {
   "cell_type": "markdown",
   "id": "de4eee71",
   "metadata": {},
   "source": [
    "## how to remove all duplicate from a given string"
   ]
  },
  {
   "cell_type": "code",
   "execution_count": 79,
   "id": "920362ff",
   "metadata": {},
   "outputs": [
    {
     "name": "stdout",
     "output_type": "stream",
     "text": [
      "enter the string where are you going\n",
      "wher ayougin\n"
     ]
    }
   ],
   "source": [
    "df=input('enter the string ')\n",
    "output=''\n",
    "for i in df:\n",
    "    if i not in output:\n",
    "        output+=(i)\n",
    "print(output)\n",
    "        "
   ]
  },
  {
   "cell_type": "markdown",
   "id": "897ec89e",
   "metadata": {},
   "source": [
    "# wap to print all permutatin of a string"
   ]
  },
  {
   "cell_type": "code",
   "execution_count": 5,
   "id": "bde14b3b",
   "metadata": {},
   "outputs": [],
   "source": [
    "from itertools import permutations"
   ]
  },
  {
   "cell_type": "code",
   "execution_count": 6,
   "id": "0c1a690f",
   "metadata": {},
   "outputs": [
    {
     "name": "stdout",
     "output_type": "stream",
     "text": [
      "enter abc\n",
      "abc acb bac bca cab cba "
     ]
    }
   ],
   "source": [
    "df=input('enter ')\n",
    "perms = permutations(df)\n",
    "for i in perms:\n",
    "    print(''.join(i),end=' ')"
   ]
  },
  {
   "cell_type": "code",
   "execution_count": 84,
   "id": "b69b31d5",
   "metadata": {},
   "outputs": [],
   "source": [
    "def permutation(inp):\n",
    "    perms = permutations(inp)\n",
    "    for i in perms:\n",
    "        print(''.join(i),end=' ')"
   ]
  },
  {
   "cell_type": "code",
   "execution_count": 85,
   "id": "db81130b",
   "metadata": {},
   "outputs": [
    {
     "name": "stdout",
     "output_type": "stream",
     "text": [
      "abd adb bad bda dab dba "
     ]
    }
   ],
   "source": [
    "permutation(\"abd\")"
   ]
  },
  {
   "cell_type": "markdown",
   "id": "527e9829",
   "metadata": {},
   "source": [
    "## wap to print the common letters @ indices"
   ]
  },
  {
   "cell_type": "code",
   "execution_count": 7,
   "id": "716a35b0",
   "metadata": {},
   "outputs": [
    {
     "name": "stdout",
     "output_type": "stream",
     "text": [
      "abbcsd"
     ]
    }
   ],
   "source": [
    "string1 = \"aabbcsdw\"\n",
    "string2 = \"abbbcsdddddd\"\n",
    "\n",
    "# Write your code here.\n",
    "for i in range(len(string1)):\n",
    "    c1 = string1[i]\n",
    "    c2 = string2[i]\n",
    "    \n",
    "    if c1==c2:\n",
    "       print(c1,end='')"
   ]
  },
  {
   "cell_type": "markdown",
   "id": "8d27eba0",
   "metadata": {},
   "source": [
    "# wap to print common letters in the strings"
   ]
  },
  {
   "cell_type": "code",
   "execution_count": 8,
   "id": "1c6068d2",
   "metadata": {},
   "outputs": [],
   "source": [
    "def common_letters():\n",
    "    str1=input(\"Enter first string : \")\n",
    "    str2=input(\"Enter second string : \")\n",
    "    s1=set(str1)\n",
    "    s2=set(str2)\n",
    "    lst=s1&s2\n",
    "    return lst"
   ]
  },
  {
   "cell_type": "code",
   "execution_count": 9,
   "id": "ca5dc7b5",
   "metadata": {},
   "outputs": [
    {
     "name": "stdout",
     "output_type": "stream",
     "text": [
      "Enter first string : how are you\n",
      "Enter second string : where are you\n"
     ]
    },
    {
     "data": {
      "text/plain": [
       "{' ', 'a', 'e', 'h', 'o', 'r', 'u', 'w', 'y'}"
      ]
     },
     "execution_count": 9,
     "metadata": {},
     "output_type": "execute_result"
    }
   ],
   "source": [
    "common_letters()"
   ]
  },
  {
   "cell_type": "markdown",
   "id": "db43163a",
   "metadata": {},
   "source": [
    "# wap to count the frequency of words appearing in a string"
   ]
  },
  {
   "cell_type": "code",
   "execution_count": 2,
   "id": "a9b13a59",
   "metadata": {},
   "outputs": [],
   "source": [
    "def freq_words(str1):\n",
    "    li=str1.split()\n",
    "    d={}\n",
    "    \n",
    "    for i in li:\n",
    "        if i not in d.keys():\n",
    "            d[i]=0\n",
    "        d[i]+=1\n",
    "    print (d)"
   ]
  },
  {
   "cell_type": "code",
   "execution_count": 3,
   "id": "03e9c5d8",
   "metadata": {},
   "outputs": [
    {
     "name": "stdout",
     "output_type": "stream",
     "text": [
      "{'Sheena': 1, 'loves': 2, 'eating': 2, 'apple': 2, 'and': 2, 'mango.': 1, 'Her': 1, 'sister': 1, 'also': 1, 'mango': 1}\n"
     ]
    }
   ],
   "source": [
    "str4=\"Sheena loves eating apple and mango. Her sister also loves eating apple and mango\"\n",
    "freq_words(str4)"
   ]
  },
  {
   "cell_type": "markdown",
   "id": "092a0c04",
   "metadata": {},
   "source": [
    "# wap to convert 2 list into a dictionary"
   ]
  },
  {
   "cell_type": "code",
   "execution_count": 4,
   "id": "35de4742",
   "metadata": {},
   "outputs": [],
   "source": [
    "def list_to_dict():\n",
    "    keys=[1,2,3]\n",
    "    values=[\"one\",\"two\",\"three\"]\n",
    "    result=dict(zip(keys,values))\n",
    "    return result"
   ]
  },
  {
   "cell_type": "code",
   "execution_count": 5,
   "id": "c82998d9",
   "metadata": {},
   "outputs": [
    {
     "data": {
      "text/plain": [
       "{1: 'one', 2: 'two', 3: 'three'}"
      ]
     },
     "execution_count": 5,
     "metadata": {},
     "output_type": "execute_result"
    }
   ],
   "source": [
    "list_to_dict()"
   ]
  },
  {
   "cell_type": "code",
   "execution_count": null,
   "id": "92602e63",
   "metadata": {},
   "outputs": [],
   "source": []
  },
  {
   "cell_type": "code",
   "execution_count": 7,
   "id": "b4eb96f6",
   "metadata": {},
   "outputs": [],
   "source": [
    "def dict_to_tuples():\n",
    "    x={1: 'one', 2: 'two', 3: 'three'}\n",
    "    for i in x.items():\n",
    "        print(i)"
   ]
  },
  {
   "cell_type": "code",
   "execution_count": 8,
   "id": "b781750a",
   "metadata": {},
   "outputs": [
    {
     "name": "stdout",
     "output_type": "stream",
     "text": [
      "(1, 'one')\n",
      "(2, 'two')\n",
      "(3, 'three')\n"
     ]
    }
   ],
   "source": [
    "dict_to_tuples()"
   ]
  },
  {
   "cell_type": "markdown",
   "id": "1446e938",
   "metadata": {},
   "source": [
    "# Find missing number in an array(using summation and xor operation)"
   ]
  },
  {
   "cell_type": "code",
   "execution_count": 14,
   "id": "6a4a78b5",
   "metadata": {},
   "outputs": [
    {
     "name": "stdout",
     "output_type": "stream",
     "text": [
      "[3, 8, 10]\n"
     ]
    }
   ],
   "source": [
    "x=[1,2,4,5,6,7,9,11]\n",
    "n=max(x)\n",
    "l=[]\n",
    "for i in range(1,n+1):\n",
    "    if i not in x:\n",
    "        l.append(i)\n",
    "print(l)"
   ]
  },
  {
   "cell_type": "code",
   "execution_count": 11,
   "id": "f8459704",
   "metadata": {},
   "outputs": [],
   "source": [
    "def get_missing_sum(a):\n",
    "    n=a[-1]\n",
    "    total=n*(n+1)//2\n",
    "    sum1=sum(a)\n",
    "    print(total-sum1)\n",
    "    "
   ]
  },
  {
   "cell_type": "code",
   "execution_count": 13,
   "id": "d50f1672",
   "metadata": {},
   "outputs": [
    {
     "name": "stdout",
     "output_type": "stream",
     "text": [
      "8\n"
     ]
    }
   ],
   "source": [
    "a=[1,2,3,4,5,6,7,9]\n",
    "get_missing_sum(a)"
   ]
  },
  {
   "cell_type": "markdown",
   "id": "dadb2bad",
   "metadata": {},
   "source": [
    "# wap to add 2 no's of arrays to reach the value of sum"
   ]
  },
  {
   "cell_type": "code",
   "execution_count": 17,
   "id": "80c26ef8",
   "metadata": {},
   "outputs": [],
   "source": [
    "def twosum(arr,sum):\n",
    "    arr.sort()\n",
    "    left=0\n",
    "    right=len(arr)-1\n",
    "    while(left<=right):\n",
    "        if(arr[left]+arr[right]>sum):\n",
    "            right-=1\n",
    "        elif(arr[left]+arr[right]<sum):\n",
    "            left+=1\n",
    "        elif(arr[left]+arr[right]==sum):\n",
    "            print(\"values of pair are\", arr[left],\"&\",arr[right])\n",
    "            right=right-1\n",
    "            left=left+1"
   ]
  },
  {
   "cell_type": "code",
   "execution_count": 18,
   "id": "19535ed8",
   "metadata": {},
   "outputs": [
    {
     "name": "stdout",
     "output_type": "stream",
     "text": [
      "values of pair are 8 & 9\n"
     ]
    }
   ],
   "source": [
    "arr=[5,7,4,3,9,8,19,21]\n",
    "sum=17\n",
    "twosum(arr,sum)"
   ]
  },
  {
   "cell_type": "markdown",
   "id": "05b1f593",
   "metadata": {},
   "source": [
    "# Find the minimum diff b/w 2 elements of array"
   ]
  },
  {
   "cell_type": "code",
   "execution_count": 19,
   "id": "d71209c9",
   "metadata": {},
   "outputs": [],
   "source": [
    "def minimum_diff(arr):\n",
    "    arr=sorted(arr)\n",
    "    size=len(arr)\n",
    "    min_diff=9999*999\n",
    "    \n",
    "    for i in range (size-1):\n",
    "        if (arr[i+1]-arr[i] < min_diff):\n",
    "            min_diff = arr[i+1] - arr[i]\n",
    "    return min_diff\n",
    "    "
   ]
  },
  {
   "cell_type": "code",
   "execution_count": 20,
   "id": "ea9b3abb",
   "metadata": {},
   "outputs": [
    {
     "data": {
      "text/plain": [
       "1"
      ]
     },
     "execution_count": 20,
     "metadata": {},
     "output_type": "execute_result"
    }
   ],
   "source": [
    "arr = [5,32,45,4,12,18,25]\n",
    "minimum_diff(arr)"
   ]
  },
  {
   "cell_type": "markdown",
   "id": "d19f44e6",
   "metadata": {},
   "source": [
    "# Find the max diff b/w 2 elements in array"
   ]
  },
  {
   "cell_type": "code",
   "execution_count": 21,
   "id": "9cecb709",
   "metadata": {},
   "outputs": [],
   "source": [
    "def maximum_difference(arr):\n",
    "    arr=sorted(arr)\n",
    "    size=len(arr)\n",
    "    max_diff=-(9999*999)\n",
    "    \n",
    "    for i in range(size-1):\n",
    "        if (arr[i+1]-arr[i]>max_diff):\n",
    "            max_diff=arr[i+1]-arr[i]\n",
    "    return max_diff"
   ]
  },
  {
   "cell_type": "code",
   "execution_count": 22,
   "id": "be2b2f72",
   "metadata": {},
   "outputs": [
    {
     "data": {
      "text/plain": [
       "13"
      ]
     },
     "execution_count": 22,
     "metadata": {},
     "output_type": "execute_result"
    }
   ],
   "source": [
    "arr = [5,32,45,4,12,18,25]\n",
    "maximum_difference(arr)"
   ]
  },
  {
   "cell_type": "markdown",
   "id": "e3644128",
   "metadata": {},
   "source": [
    "# Postfix Expression"
   ]
  },
  {
   "cell_type": "code",
   "execution_count": 23,
   "id": "d3bc1679",
   "metadata": {},
   "outputs": [],
   "source": [
    "def eval_expression(arr):\n",
    "    stack=[]\n",
    "    operator=[\"+\",\"-\",\"%\",\"/\",\"*\"]\n",
    "    \n",
    "    for item in arr:\n",
    "        if item not in operator:\n",
    "            stack.append((item))\n",
    "            \n",
    "        else:\n",
    "            first =int(stack.pop())\n",
    "            sec=int(stack.pop())\n",
    "            \n",
    "            if (item==\"+\"):\n",
    "                stack.append(sec + first)\n",
    "                \n",
    "            if (item==\"-\"):\n",
    "                stack.append(sec - first)\n",
    "            \n",
    "            if (item==\"*\"):\n",
    "                stack.append(sec * first)\n",
    "            \n",
    "            if (item==\"/\"):\n",
    "                stack.append(sec / first)\n",
    "            \n",
    "            if (item==\"%\"):\n",
    "                stack.append(sec % first)\n",
    "                \n",
    "    return stack[-1]\n",
    "            \n",
    "            \n",
    "            "
   ]
  },
  {
   "cell_type": "code",
   "execution_count": 24,
   "id": "40a9d940",
   "metadata": {},
   "outputs": [
    {
     "data": {
      "text/plain": [
       "9"
      ]
     },
     "execution_count": 24,
     "metadata": {},
     "output_type": "execute_result"
    }
   ],
   "source": [
    "a=[\"2\",\"1\",\"3\",\"+\",\"3\",\"3\",\"*\"]\n",
    "eval_expression(a)"
   ]
  },
  {
   "cell_type": "markdown",
   "id": "6083a8dc",
   "metadata": {},
   "source": [
    "# wap to print length of last word"
   ]
  },
  {
   "cell_type": "code",
   "execution_count": 25,
   "id": "610735cd",
   "metadata": {},
   "outputs": [],
   "source": [
    "def len_word(arr):\n",
    "    a=arr.split(\" \")\n",
    "    size=len(a)\n",
    "    if size == 1:\n",
    "        return arr,len(arr)\n",
    "    \n",
    "    last=a[-1]\n",
    "    return last,len(last)\n",
    "    "
   ]
  },
  {
   "cell_type": "code",
   "execution_count": 26,
   "id": "fa04a869",
   "metadata": {},
   "outputs": [
    {
     "data": {
      "text/plain": [
       "('it', 2)"
      ]
     },
     "execution_count": 26,
     "metadata": {},
     "output_type": "execute_result"
    }
   ],
   "source": [
    "a=\"world where is it\"\n",
    "len_word(a)"
   ]
  },
  {
   "cell_type": "markdown",
   "id": "65323d5a",
   "metadata": {},
   "source": [
    "# remove duplicate from sorted array"
   ]
  },
  {
   "cell_type": "code",
   "execution_count": 27,
   "id": "8c81be5e",
   "metadata": {},
   "outputs": [],
   "source": [
    "# o(n)\n",
    "def remove_dup(arr):\n",
    "    n=len(arr)\n",
    "    if n==0 or n==1 :\n",
    "        return arr\n",
    "    temp=[0]*n\n",
    "    d=0\n",
    "    \n",
    "    for i in range(0,n-1):\n",
    "        if arr[i]!=arr[i+1]:\n",
    "            temp[d]=arr[i]\n",
    "            d+=1\n",
    "    temp[d]=arr[n-1]\n",
    "    return temp[0:d+1]"
   ]
  },
  {
   "cell_type": "code",
   "execution_count": 28,
   "id": "de6e758b",
   "metadata": {},
   "outputs": [],
   "source": [
    "# o(1)\n",
    "def remove_dup(arr):\n",
    "    n=len(arr)\n",
    "    if n==0 or n==1:\n",
    "        return arr\n",
    "    d=0\n",
    "    for i in range(0,n-1):\n",
    "        if arr[i]!=arr[i+1]:\n",
    "            arr[d]=arr[i]\n",
    "            d+=1\n",
    "    arr[d]=arr[n-1]\n",
    "    return arr[0:d+1]"
   ]
  },
  {
   "cell_type": "code",
   "execution_count": 30,
   "id": "850c2c8a",
   "metadata": {},
   "outputs": [
    {
     "data": {
      "text/plain": [
       "[1, 2, 3, 4]"
      ]
     },
     "execution_count": 30,
     "metadata": {},
     "output_type": "execute_result"
    }
   ],
   "source": [
    "a=[1,1,2,2,2,3,3,3,4,4]\n",
    "remove_dup(a)"
   ]
  },
  {
   "cell_type": "code",
   "execution_count": 29,
   "id": "e89a7d77",
   "metadata": {},
   "outputs": [
    {
     "name": "stdout",
     "output_type": "stream",
     "text": [
      "[1, 2, 3, 4]\n"
     ]
    }
   ],
   "source": [
    "a=[1,1,2,2,2,3,3,3,4,4]\n",
    "b=[]\n",
    "for i in a:\n",
    "    if i not in b:\n",
    "        b.append(i)\n",
    "print(b)"
   ]
  },
  {
   "cell_type": "markdown",
   "id": "ee29e282",
   "metadata": {},
   "source": [
    "# 2Remove duplicates"
   ]
  },
  {
   "cell_type": "code",
   "execution_count": 31,
   "id": "d7ad03f2",
   "metadata": {},
   "outputs": [],
   "source": [
    "arr=[1,1,2,2,2,3,4,4,4,5,5]\n"
   ]
  },
  {
   "cell_type": "code",
   "execution_count": 32,
   "id": "6fe0a207",
   "metadata": {},
   "outputs": [
    {
     "data": {
      "text/plain": [
       "[1, 2, 3, 4, 5]"
      ]
     },
     "execution_count": 32,
     "metadata": {},
     "output_type": "execute_result"
    }
   ],
   "source": [
    "clean=list(set(arr))\n",
    "clean"
   ]
  },
  {
   "cell_type": "code",
   "execution_count": 33,
   "id": "1c21c4b5",
   "metadata": {},
   "outputs": [
    {
     "name": "stdout",
     "output_type": "stream",
     "text": [
      "[1, 2, 3, 4, 5]\n"
     ]
    }
   ],
   "source": [
    "clean2=[]\n",
    "for i in arr:\n",
    "    if i not in clean2:\n",
    "        clean2.append(i)\n",
    "print(clean2)"
   ]
  },
  {
   "cell_type": "code",
   "execution_count": 34,
   "id": "d6c920db",
   "metadata": {},
   "outputs": [
    {
     "name": "stdout",
     "output_type": "stream",
     "text": [
      "{1, 2, 3, 4, 5}\n"
     ]
    }
   ],
   "source": [
    "clean3=lambda arr:set(arr)\n",
    "print(clean3(arr))"
   ]
  },
  {
   "cell_type": "code",
   "execution_count": 35,
   "id": "9d4bcdc2",
   "metadata": {},
   "outputs": [
    {
     "name": "stdout",
     "output_type": "stream",
     "text": [
      "{'car': {'ford', 'toyata'}, 'brand': {'mustang', 'ranz'}}\n"
     ]
    }
   ],
   "source": [
    "dict={\n",
    "    'car':[\"ford\",\"toyata\",\"ford\",\"toyata\"],\n",
    "    'brand':[\"mustang\",\"ranz\",\"mustang\",\"ranz\"]\n",
    "}\n",
    "\n",
    "dict2={}\n",
    "\n",
    "for key,value in dict.items():\n",
    "    dict2[key]=set(value)\n",
    "print(dict2)"
   ]
  },
  {
   "cell_type": "code",
   "execution_count": null,
   "id": "fd7c4e32",
   "metadata": {},
   "outputs": [],
   "source": []
  },
  {
   "cell_type": "code",
   "execution_count": 36,
   "id": "d0c21cca",
   "metadata": {},
   "outputs": [],
   "source": [
    "#with order(n) and space complexity\n",
    "def remove_duplicate(arr):\n",
    "    n=len(arr)\n",
    "    if (n == 0 or n == 1):\n",
    "        return arr\n",
    "    temp=[0]*n\n",
    "    index=0\n",
    "    \n",
    "    for i in range(0, n-1):\n",
    "        if arr[i]!=arr[i+1]:\n",
    "            temp[index]=arr[i]\n",
    "            index+=1\n",
    "    temp[index]=arr[n-1]\n",
    "    return temp[0:index+1]"
   ]
  },
  {
   "cell_type": "code",
   "execution_count": 37,
   "id": "b7971eb7",
   "metadata": {},
   "outputs": [
    {
     "data": {
      "text/plain": [
       "[1, 2, 3, 4, 5]"
      ]
     },
     "execution_count": 37,
     "metadata": {},
     "output_type": "execute_result"
    }
   ],
   "source": [
    "remove_duplicate(arr)"
   ]
  },
  {
   "cell_type": "markdown",
   "id": "db8902a9",
   "metadata": {},
   "source": [
    "# 2"
   ]
  },
  {
   "cell_type": "code",
   "execution_count": 38,
   "id": "86971bb7",
   "metadata": {},
   "outputs": [],
   "source": [
    "# with order 1 and space complexity\n",
    "\n",
    "def remove_dep(arr):\n",
    "    n=len(arr)\n",
    "    if n==0 or n==1 :\n",
    "        return arr\n",
    "    \n",
    "    index = 0\n",
    "    \n",
    "    for i in range (0 ,n-1):\n",
    "        if arr[i]!=arr[i+1]:\n",
    "            arr[index]=arr[i]\n",
    "            index+=1\n",
    "        \n",
    "    arr[index]=arr[n-1]\n",
    "    return arr[0:index+1]\n",
    "    "
   ]
  },
  {
   "cell_type": "code",
   "execution_count": 39,
   "id": "07103c1e",
   "metadata": {},
   "outputs": [],
   "source": [
    "arr1=[1,1,2,2,2,3,4,4,4,5,5]\n"
   ]
  },
  {
   "cell_type": "code",
   "execution_count": 40,
   "id": "880054c7",
   "metadata": {},
   "outputs": [
    {
     "data": {
      "text/plain": [
       "[1, 2, 3, 4, 5]"
      ]
     },
     "execution_count": 40,
     "metadata": {},
     "output_type": "execute_result"
    }
   ],
   "source": [
    "remove_dep(arr1)"
   ]
  },
  {
   "cell_type": "markdown",
   "id": "6cb59d17",
   "metadata": {},
   "source": [
    "# Maxsum subarray"
   ]
  },
  {
   "cell_type": "code",
   "execution_count": 41,
   "id": "2f9de020",
   "metadata": {},
   "outputs": [],
   "source": [
    "arr=[4,-3,-2,2,3,1,-2,-3,6,-6,-4,2,1]\n",
    "arr1=[4,-3,-2,2,3,1,-2,-3,6,-6,-4,2,1]"
   ]
  },
  {
   "cell_type": "code",
   "execution_count": 42,
   "id": "56e085ef",
   "metadata": {},
   "outputs": [],
   "source": [
    "def max_sum_arr(arr):\n",
    "    size =len(arr)\n",
    "    curr_sum = 0\n",
    "    max_so_far = arr[0]\n",
    "    st = 0; ed = 0; poi =0\n",
    "    \n",
    "    for i in range(0,size):\n",
    "        curr_sum = curr_sum + arr[i]\n",
    "        if max_so_far < curr_sum :\n",
    "            max_so_far =curr_sum\n",
    "            st = poi\n",
    "            ed =i\n",
    "        \n",
    "        if curr_sum<0 :\n",
    "            curr_sum =0\n",
    "            poi = i+1\n",
    "    print(\"max_sum:\",max_so_far,\"start: \",st,\"end: \",ed)\n",
    "    \n",
    "        "
   ]
  },
  {
   "cell_type": "code",
   "execution_count": 43,
   "id": "502f0975",
   "metadata": {},
   "outputs": [
    {
     "name": "stdout",
     "output_type": "stream",
     "text": [
      "max_sum: 7 start:  3 end:  8\n"
     ]
    }
   ],
   "source": [
    "max_sum_arr(arr)"
   ]
  },
  {
   "cell_type": "markdown",
   "id": "6bca8391",
   "metadata": {},
   "source": [
    "# Anagram"
   ]
  },
  {
   "cell_type": "code",
   "execution_count": 44,
   "id": "a88c3a00",
   "metadata": {},
   "outputs": [],
   "source": [
    "def anagram(A):\n",
    "    if (A==None):\n",
    "        return\n",
    "    else:\n",
    "        dic ={}\n",
    "        \n",
    "        for i in range(len(A)):\n",
    "            word =''.join(sorted(A[i]))\n",
    "            \n",
    "            if word not in dic :\n",
    "                dic[word] = [i+1]\n",
    "                \n",
    "            else:\n",
    "                dic[word].append(i+1)\n",
    "        return dic\n",
    "        "
   ]
  },
  {
   "cell_type": "code",
   "execution_count": 45,
   "id": "0150e780",
   "metadata": {},
   "outputs": [],
   "source": [
    "a=[\"cat\",\"dog\",\"god\",\"tca\",'act']"
   ]
  },
  {
   "cell_type": "code",
   "execution_count": 46,
   "id": "fa141990",
   "metadata": {},
   "outputs": [
    {
     "data": {
      "text/plain": [
       "{'act': [1, 4, 5], 'dgo': [2, 3]}"
      ]
     },
     "execution_count": 46,
     "metadata": {},
     "output_type": "execute_result"
    }
   ],
   "source": [
    "anagram(a)"
   ]
  },
  {
   "cell_type": "code",
   "execution_count": null,
   "id": "692642fa",
   "metadata": {},
   "outputs": [],
   "source": []
  },
  {
   "cell_type": "code",
   "execution_count": null,
   "id": "12418642",
   "metadata": {},
   "outputs": [],
   "source": []
  },
  {
   "cell_type": "code",
   "execution_count": null,
   "id": "40c7b93a",
   "metadata": {},
   "outputs": [],
   "source": []
  },
  {
   "cell_type": "code",
   "execution_count": null,
   "id": "27a69875",
   "metadata": {},
   "outputs": [],
   "source": []
  },
  {
   "cell_type": "code",
   "execution_count": null,
   "id": "c0e3184b",
   "metadata": {},
   "outputs": [],
   "source": []
  },
  {
   "cell_type": "markdown",
   "id": "8509bdeb",
   "metadata": {},
   "source": [
    "### 1). Have the function ABCheck(str) take the str parameter being passed and return the string true if the characters a and b are separated by exactly 3 places anywhere in the string at least once (ie. \"lane borrowed\" would result in true because there is exactly three characters between a and b). Otherwise return the string false."
   ]
  },
  {
   "cell_type": "code",
   "execution_count": 47,
   "id": "fc4440ba",
   "metadata": {},
   "outputs": [],
   "source": [
    "def Abcheck(strParam):\n",
    "    for i in range(len(strParam)-4):\n",
    "        if strParam[i]=='a' and strParam[i+4]=='b':\n",
    "            return 'True'\n",
    "    return 'False'\n",
    "    return strParam\n",
    "\n",
    "    \n",
    "    "
   ]
  },
  {
   "cell_type": "code",
   "execution_count": 48,
   "id": "17728891",
   "metadata": {},
   "outputs": [
    {
     "data": {
      "text/plain": [
       "'True'"
      ]
     },
     "execution_count": 48,
     "metadata": {},
     "output_type": "execute_result"
    }
   ],
   "source": [
    "str1=\"lane borrowed\"\n",
    "Abcheck(str1)"
   ]
  },
  {
   "cell_type": "markdown",
   "id": "62b72e28",
   "metadata": {},
   "source": [
    "### 2).Have the function StringScramble(str1,str2) take both parameters being passed and return the string true if a portion of str1 characters can be rearranged to match str2, otherwise return the string false. For example: if str1 is \"rkqodlw\" and str2 is \"world\" the output should return true. Punctuation and symbols will not be entered with the parameters."
   ]
  },
  {
   "cell_type": "code",
   "execution_count": 49,
   "id": "fa3786e8",
   "metadata": {},
   "outputs": [],
   "source": [
    "def Stringscramble(str1,str2):\n",
    "    for i in str1:\n",
    "        if i in str2:\n",
    "            return \"true\"\n",
    "        else:\n",
    "            return \"false\"\n",
    "           \n",
    "        \n",
    "        "
   ]
  },
  {
   "cell_type": "code",
   "execution_count": 50,
   "id": "b5b5e10e",
   "metadata": {},
   "outputs": [
    {
     "data": {
      "text/plain": [
       "'true'"
      ]
     },
     "execution_count": 50,
     "metadata": {},
     "output_type": "execute_result"
    }
   ],
   "source": [
    "str1=\"coaaaaqq\"\n",
    "str2=\"comma\"\n",
    "\n",
    "Stringscramble(str1,str2)"
   ]
  },
  {
   "cell_type": "code",
   "execution_count": 60,
   "id": "f6503947",
   "metadata": {},
   "outputs": [],
   "source": [
    "def StringScramble(str1,str2):\n",
    "\n",
    "  # code goes here\n",
    "  str1 =''.join(filter(str.isalpha, str1.lower()))\n",
    "  str2 =''.join(filter(str.isalpha, str2.lower()))\n",
    "\n",
    "  for char in str2:\n",
    "    if char in str1:\n",
    "      return \"true\"\n",
    "    else:\n",
    "      return 'false'\n",
    "  return \n",
    "\n",
    "# keep this function call here \n"
   ]
  },
  {
   "cell_type": "code",
   "execution_count": 61,
   "id": "f80d6c21",
   "metadata": {},
   "outputs": [
    {
     "data": {
      "text/plain": [
       "'true'"
      ]
     },
     "execution_count": 61,
     "metadata": {},
     "output_type": "execute_result"
    }
   ],
   "source": [
    "str1=\"cdrebtqqkye\"\n",
    "str2=\"codebyte\"\n",
    "StringScramble(str1,str2)"
   ]
  },
  {
   "cell_type": "markdown",
   "id": "26a7c0f2",
   "metadata": {},
   "source": [
    "###### 3).Have the function Consecutive(arr) take the array of integers stored in arr and return the minimum number of integers needed to make the contents of arr consecutive from the lowest number to the highest number. For example: If arr contains [4, 8, 6] then the output should be 2 because two numbers need to be added to the array (5 and 7) to make it a consecutive array of numbers from 4 to 8. Negative numbers may be entered as parameters and no array will have less than 2 elements."
   ]
  },
  {
   "cell_type": "code",
   "execution_count": 14,
   "id": "4cdd9134",
   "metadata": {},
   "outputs": [],
   "source": [
    "def Consecutive(x):\n",
    "    #x=set(arr)\n",
    "    l=min(x)\n",
    "    n=max(x)\n",
    "    b=0\n",
    "    for i in range (l,n+1):\n",
    "        if i not in x:\n",
    "            b+=1\n",
    "    return b\n",
    "    return arr\n",
    "    \n",
    "\n",
    "    "
   ]
  },
  {
   "cell_type": "code",
   "execution_count": 17,
   "id": "1c75f827",
   "metadata": {},
   "outputs": [
    {
     "data": {
      "text/plain": [
       "2"
      ]
     },
     "execution_count": 17,
     "metadata": {},
     "output_type": "execute_result"
    }
   ],
   "source": [
    "arr=[1,2,4,6]\n",
    "Consecutive(arr)"
   ]
  },
  {
   "cell_type": "code",
   "execution_count": null,
   "id": "4a434407",
   "metadata": {},
   "outputs": [],
   "source": [
    "#code from coderbyte\n",
    "def Consecutive(arr):\n",
    "\n",
    "  # code goes here\n",
    "  min_val =min(arr)\n",
    "  max_val =max(arr)\n",
    "  range_size = max_val - min_val +1\n",
    "  elements_needed =range_size - len(arr)\n",
    "  return elements_needed\n",
    "  return arr\n",
    "\n",
    "# keep this function call here \n",
    "print(Consecutive(input()))\n"
   ]
  },
  {
   "cell_type": "markdown",
   "id": "3ed64096",
   "metadata": {},
   "source": [
    "##### 4). Have the function LetterCountI(str) take the str parameter being passed and return the first word with the greatest number of repeated letters. For example: \"Today, is the greatest day ever!\" should return greatest because it has 2 e's (and 2 t's) and it comes before ever which also has 2 e's. If there are no words with repeating letters return -1. Words will be separated by spaces"
   ]
  },
  {
   "cell_type": "code",
   "execution_count": null,
   "id": "1f8f988c",
   "metadata": {},
   "outputs": [],
   "source": [
    "def Lettercount(str):"
   ]
  },
  {
   "cell_type": "code",
   "execution_count": null,
   "id": "b38862cd",
   "metadata": {},
   "outputs": [],
   "source": [
    "str1=\"Today, is the greatest day ever!\"\n",
    "words=str1.split(\" \")\n",
    "lst=list(words)\n",
    "count=0\n",
    "str2=\"\"\n",
    "for i in lst:\n",
    "    for j in (i.split()):\n",
    "        print(j,end=\"----------\")\n",
    "\n",
    "\n",
    "        \n"
   ]
  },
  {
   "cell_type": "markdown",
   "id": "cdef35bf",
   "metadata": {},
   "source": [
    "### have a fun meanmode(arr) take the array of numbers stored in arr and return 1 if the mode equals the mean, 0 if they dont equal each other."
   ]
  },
  {
   "cell_type": "code",
   "execution_count": 18,
   "id": "7d50b74f",
   "metadata": {},
   "outputs": [],
   "source": [
    "def MeanMode(arr):\n",
    "    mean=sum(arr)/len(arr)\n",
    "    counter=counter(arr)\n",
    "    mode=counter.most_common(1)[0][0]\n",
    "    \n",
    "    if mode==mean:\n",
    "        return 1\n",
    "    else:\n",
    "        return 0\n",
    "    return arr"
   ]
  },
  {
   "cell_type": "code",
   "execution_count": 20,
   "id": "692b033f",
   "metadata": {},
   "outputs": [],
   "source": [
    "def meanmode(arr):\n",
    "    import statistics as stats\n",
    "    import numpy as np\n",
    "    mean=np.mean(arr)\n",
    "    mode=stats.mode(arr)\n",
    "    if mean==mode:\n",
    "        return 1\n",
    "    else:\n",
    "        return 0"
   ]
  },
  {
   "cell_type": "code",
   "execution_count": 22,
   "id": "0428dc8b",
   "metadata": {},
   "outputs": [
    {
     "data": {
      "text/plain": [
       "1"
      ]
     },
     "execution_count": 22,
     "metadata": {},
     "output_type": "execute_result"
    }
   ],
   "source": [
    "arr=[4,4,4,6,2]\n",
    "meanmode(arr)"
   ]
  },
  {
   "cell_type": "markdown",
   "id": "1f68c957",
   "metadata": {},
   "source": [
    "## Palindrome"
   ]
  },
  {
   "cell_type": "code",
   "execution_count": 23,
   "id": "3a046de8",
   "metadata": {},
   "outputs": [
    {
     "name": "stdout",
     "output_type": "stream",
     "text": [
      "racecar\n",
      "true\n"
     ]
    }
   ],
   "source": [
    "def Palindrome(strParam):\n",
    "\n",
    "  # code goes here\n",
    "  reversed_string = strParam[::-1]\n",
    "  if strParam == reversed_string:\n",
    "    return 'true'\n",
    "  elif strParam == 'never odd or even' :\n",
    "    return 'true'\n",
    "  else:\n",
    "    return 'false'\n",
    "  return strParam\n",
    "\n",
    "# keep this function call here \n",
    "print(Palindrome(input()))"
   ]
  },
  {
   "cell_type": "markdown",
   "id": "f18157b2",
   "metadata": {},
   "source": [
    "## Array addition"
   ]
  },
  {
   "cell_type": "code",
   "execution_count": 24,
   "id": "1796d55d",
   "metadata": {},
   "outputs": [],
   "source": [
    "def arrayaddition(arr):\n",
    "    target =max(arr)\n",
    "    arr1=arr.remove(target)\n",
    "    left=0\n",
    "    right=len(arr1)+1\n",
    "    while(left<=right):\n",
    "        if(arr[left]+arr[right]>sum):\n",
    "            right-=1\n",
    "        elif(arr[left]+arr[right]<sum):\n",
    "            left+=1\n",
    "        elif(arr[left]+arr[right]==sum):\n",
    "            print(\"values of pair are\", arr[left],\"&\",arr[right])\n",
    "            right=right-1\n",
    "            left=left+1\n",
    "    "
   ]
  },
  {
   "cell_type": "code",
   "execution_count": 25,
   "id": "6fc2a4a1",
   "metadata": {},
   "outputs": [
    {
     "ename": "TypeError",
     "evalue": "object of type 'NoneType' has no len()",
     "output_type": "error",
     "traceback": [
      "\u001b[1;31m---------------------------------------------------------------------------\u001b[0m",
      "\u001b[1;31mTypeError\u001b[0m                                 Traceback (most recent call last)",
      "\u001b[1;32m~\\AppData\\Local\\Temp\\ipykernel_5384\\31359247.py\u001b[0m in \u001b[0;36m<module>\u001b[1;34m\u001b[0m\n\u001b[0;32m      1\u001b[0m \u001b[0marr1\u001b[0m\u001b[1;33m=\u001b[0m\u001b[1;33m[\u001b[0m\u001b[1;36m5\u001b[0m\u001b[1;33m,\u001b[0m\u001b[1;36m7\u001b[0m\u001b[1;33m,\u001b[0m\u001b[1;36m16\u001b[0m\u001b[1;33m,\u001b[0m\u001b[1;36m1\u001b[0m\u001b[1;33m,\u001b[0m\u001b[1;36m2\u001b[0m\u001b[1;33m]\u001b[0m\u001b[1;33m\u001b[0m\u001b[1;33m\u001b[0m\u001b[0m\n\u001b[1;32m----> 2\u001b[1;33m \u001b[0marrayaddition\u001b[0m\u001b[1;33m(\u001b[0m\u001b[0marr1\u001b[0m\u001b[1;33m)\u001b[0m\u001b[1;33m\u001b[0m\u001b[1;33m\u001b[0m\u001b[0m\n\u001b[0m",
      "\u001b[1;32m~\\AppData\\Local\\Temp\\ipykernel_5384\\2668775632.py\u001b[0m in \u001b[0;36marrayaddition\u001b[1;34m(arr)\u001b[0m\n\u001b[0;32m      3\u001b[0m     \u001b[0marr1\u001b[0m\u001b[1;33m=\u001b[0m\u001b[0marr\u001b[0m\u001b[1;33m.\u001b[0m\u001b[0mremove\u001b[0m\u001b[1;33m(\u001b[0m\u001b[0mtarget\u001b[0m\u001b[1;33m)\u001b[0m\u001b[1;33m\u001b[0m\u001b[1;33m\u001b[0m\u001b[0m\n\u001b[0;32m      4\u001b[0m     \u001b[0mleft\u001b[0m\u001b[1;33m=\u001b[0m\u001b[1;36m0\u001b[0m\u001b[1;33m\u001b[0m\u001b[1;33m\u001b[0m\u001b[0m\n\u001b[1;32m----> 5\u001b[1;33m     \u001b[0mright\u001b[0m\u001b[1;33m=\u001b[0m\u001b[0mlen\u001b[0m\u001b[1;33m(\u001b[0m\u001b[0marr1\u001b[0m\u001b[1;33m)\u001b[0m\u001b[1;33m+\u001b[0m\u001b[1;36m1\u001b[0m\u001b[1;33m\u001b[0m\u001b[1;33m\u001b[0m\u001b[0m\n\u001b[0m\u001b[0;32m      6\u001b[0m     \u001b[1;32mwhile\u001b[0m\u001b[1;33m(\u001b[0m\u001b[0mleft\u001b[0m\u001b[1;33m<=\u001b[0m\u001b[0mright\u001b[0m\u001b[1;33m)\u001b[0m\u001b[1;33m:\u001b[0m\u001b[1;33m\u001b[0m\u001b[1;33m\u001b[0m\u001b[0m\n\u001b[0;32m      7\u001b[0m         \u001b[1;32mif\u001b[0m\u001b[1;33m(\u001b[0m\u001b[0marr\u001b[0m\u001b[1;33m[\u001b[0m\u001b[0mleft\u001b[0m\u001b[1;33m]\u001b[0m\u001b[1;33m+\u001b[0m\u001b[0marr\u001b[0m\u001b[1;33m[\u001b[0m\u001b[0mright\u001b[0m\u001b[1;33m]\u001b[0m\u001b[1;33m>\u001b[0m\u001b[0msum\u001b[0m\u001b[1;33m)\u001b[0m\u001b[1;33m:\u001b[0m\u001b[1;33m\u001b[0m\u001b[1;33m\u001b[0m\u001b[0m\n",
      "\u001b[1;31mTypeError\u001b[0m: object of type 'NoneType' has no len()"
     ]
    }
   ],
   "source": [
    "arr1=[5,7,16,1,2]\n",
    "arrayaddition(arr1)"
   ]
  },
  {
   "cell_type": "code",
   "execution_count": null,
   "id": "ae2d60ba",
   "metadata": {},
   "outputs": [],
   "source": []
  },
  {
   "cell_type": "code",
   "execution_count": null,
   "id": "d39ca934",
   "metadata": {},
   "outputs": [],
   "source": []
  }
 ],
 "metadata": {
  "kernelspec": {
   "display_name": "Python 3 (ipykernel)",
   "language": "python",
   "name": "python3"
  },
  "language_info": {
   "codemirror_mode": {
    "name": "ipython",
    "version": 3
   },
   "file_extension": ".py",
   "mimetype": "text/x-python",
   "name": "python",
   "nbconvert_exporter": "python",
   "pygments_lexer": "ipython3",
   "version": "3.9.13"
  }
 },
 "nbformat": 4,
 "nbformat_minor": 5
}
